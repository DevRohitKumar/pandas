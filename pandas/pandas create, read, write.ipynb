{
 "cells": [
  {
   "cell_type": "code",
   "execution_count": 1,
   "id": "f958ce5d",
   "metadata": {},
   "outputs": [],
   "source": [
    "import pandas as pd"
   ]
  },
  {
   "cell_type": "markdown",
   "id": "01e691ee",
   "metadata": {},
   "source": [
    "## Create"
   ]
  },
  {
   "cell_type": "markdown",
   "id": "55d47770",
   "metadata": {},
   "source": [
    "#### There are two core objects in pandas: the DataFrame and the Series"
   ]
  },
  {
   "cell_type": "markdown",
   "id": "c7e568e1",
   "metadata": {},
   "source": [
    "### DataFrame:  \n",
    "\n",
    "##### A DataFrame is a table. It contains an array of individual entries, each of which has a certain value. Each entry corresponds to a row (or record) and a column"
   ]
  },
  {
   "cell_type": "code",
   "execution_count": 9,
   "id": "7e7a4675",
   "metadata": {},
   "outputs": [
    {
     "data": {
      "text/html": [
       "<div>\n",
       "<style scoped>\n",
       "    .dataframe tbody tr th:only-of-type {\n",
       "        vertical-align: middle;\n",
       "    }\n",
       "\n",
       "    .dataframe tbody tr th {\n",
       "        vertical-align: top;\n",
       "    }\n",
       "\n",
       "    .dataframe thead th {\n",
       "        text-align: right;\n",
       "    }\n",
       "</style>\n",
       "<table border=\"1\" class=\"dataframe\">\n",
       "  <thead>\n",
       "    <tr style=\"text-align: right;\">\n",
       "      <th></th>\n",
       "      <th>Yes</th>\n",
       "      <th>No</th>\n",
       "      <th>Maybe</th>\n",
       "    </tr>\n",
       "  </thead>\n",
       "  <tbody>\n",
       "    <tr>\n",
       "      <th>0</th>\n",
       "      <td>50</td>\n",
       "      <td>131</td>\n",
       "      <td>15</td>\n",
       "    </tr>\n",
       "    <tr>\n",
       "      <th>1</th>\n",
       "      <td>21</td>\n",
       "      <td>2</td>\n",
       "      <td>9</td>\n",
       "    </tr>\n",
       "    <tr>\n",
       "      <th>2</th>\n",
       "      <td>56</td>\n",
       "      <td>94</td>\n",
       "      <td>11</td>\n",
       "    </tr>\n",
       "  </tbody>\n",
       "</table>\n",
       "</div>"
      ],
      "text/plain": [
       "   Yes   No  Maybe\n",
       "0   50  131     15\n",
       "1   21    2      9\n",
       "2   56   94     11"
      ]
     },
     "execution_count": 9,
     "metadata": {},
     "output_type": "execute_result"
    }
   ],
   "source": [
    "custom_dataFrame =  pd.DataFrame({'Yes': [50, 21, 56], 'No': [131, 2, 94], 'Maybe':[15, 9, 11]})\n",
    "custom_dataFrame"
   ]
  },
  {
   "cell_type": "markdown",
   "id": "4534c10f",
   "metadata": {},
   "source": [
    "##### We can add custom index parameter using index field"
   ]
  },
  {
   "cell_type": "code",
   "execution_count": 10,
   "id": "a8bd6a9b",
   "metadata": {},
   "outputs": [
    {
     "data": {
      "text/html": [
       "<div>\n",
       "<style scoped>\n",
       "    .dataframe tbody tr th:only-of-type {\n",
       "        vertical-align: middle;\n",
       "    }\n",
       "\n",
       "    .dataframe tbody tr th {\n",
       "        vertical-align: top;\n",
       "    }\n",
       "\n",
       "    .dataframe thead th {\n",
       "        text-align: right;\n",
       "    }\n",
       "</style>\n",
       "<table border=\"1\" class=\"dataframe\">\n",
       "  <thead>\n",
       "    <tr style=\"text-align: right;\">\n",
       "      <th></th>\n",
       "      <th>Rohit</th>\n",
       "      <th>Mohit</th>\n",
       "      <th>Isha</th>\n",
       "    </tr>\n",
       "  </thead>\n",
       "  <tbody>\n",
       "    <tr>\n",
       "      <th>Product ABC</th>\n",
       "      <td>I liked it.</td>\n",
       "      <td>Pretty good.</td>\n",
       "      <td>Vely vely good</td>\n",
       "    </tr>\n",
       "    <tr>\n",
       "      <th>Product XYZ</th>\n",
       "      <td>It was awful.</td>\n",
       "      <td>Bad.</td>\n",
       "      <td>Awwwchm</td>\n",
       "    </tr>\n",
       "  </tbody>\n",
       "</table>\n",
       "</div>"
      ],
      "text/plain": [
       "                     Rohit         Mohit            Isha\n",
       "Product ABC    I liked it.  Pretty good.  Vely vely good\n",
       "Product XYZ  It was awful.          Bad.         Awwwchm"
      ]
     },
     "execution_count": 10,
     "metadata": {},
     "output_type": "execute_result"
    }
   ],
   "source": [
    "custom_dataFrame01 = pd.DataFrame({'Rohit': ['I liked it.', 'It was awful.'],\n",
    "                            'Mohit': ['Pretty good.', 'Bad.'],\n",
    "                           'Isha': ['Vely vely good', 'Awwwchm']},\n",
    "                           index=['Product ABC', 'Product XYZ'])\n",
    "custom_dataFrame01"
   ]
  },
  {
   "cell_type": "markdown",
   "id": "234a02e0",
   "metadata": {},
   "source": [
    "### Series:\n",
    "##### A Series is a sequence of data values. If a DataFrame is a table, a Series is a list\n"
   ]
  },
  {
   "cell_type": "code",
   "execution_count": 14,
   "id": "0a482195",
   "metadata": {},
   "outputs": [
    {
     "data": {
      "text/plain": [
       "0    1\n",
       "1    2\n",
       "2    3\n",
       "3    4\n",
       "4    5\n",
       "5    6\n",
       "6    7\n",
       "dtype: int64"
      ]
     },
     "execution_count": 14,
     "metadata": {},
     "output_type": "execute_result"
    }
   ],
   "source": [
    "custom_series = pd.Series([1, 2, 3, 4, 5, 6, 7])\n",
    "custom_series"
   ]
  },
  {
   "cell_type": "markdown",
   "id": "f2712a46",
   "metadata": {},
   "source": [
    "##### We can assign row labels to the Series the same way as before, using an index parameter. We can give name to Series using name parameter"
   ]
  },
  {
   "cell_type": "code",
   "execution_count": 15,
   "id": "e32dcb4d",
   "metadata": {},
   "outputs": [
    {
     "data": {
      "text/plain": [
       "Jan    230\n",
       "Feb    305\n",
       "Mar    400\n",
       "Apr    302\n",
       "Name: Monthly electricity consumption, dtype: int64"
      ]
     },
     "execution_count": 15,
     "metadata": {},
     "output_type": "execute_result"
    }
   ],
   "source": [
    "custom_series01 = pd.Series([230, 305, 400, 302],\n",
    "                            index=['Jan', 'Feb', 'Mar', 'Apr'],\n",
    "                            name='Monthly electricity consumption')\n",
    "custom_series01"
   ]
  },
  {
   "cell_type": "code",
   "execution_count": null,
   "id": "e0db4c19",
   "metadata": {},
   "outputs": [],
   "source": []
  },
  {
   "cell_type": "markdown",
   "id": "7519efbd",
   "metadata": {},
   "source": [
    "## Read"
   ]
  },
  {
   "cell_type": "markdown",
   "id": "231b6803",
   "metadata": {},
   "source": [
    "##### Most commonly stored dataset format is CSV (comma separated values) files. We can read data from CSV files using read_csv(\"file_name\")"
   ]
  },
  {
   "cell_type": "code",
   "execution_count": 28,
   "id": "a72cfeda",
   "metadata": {},
   "outputs": [
    {
     "data": {
      "text/html": [
       "<div>\n",
       "<style scoped>\n",
       "    .dataframe tbody tr th:only-of-type {\n",
       "        vertical-align: middle;\n",
       "    }\n",
       "\n",
       "    .dataframe tbody tr th {\n",
       "        vertical-align: top;\n",
       "    }\n",
       "\n",
       "    .dataframe thead th {\n",
       "        text-align: right;\n",
       "    }\n",
       "</style>\n",
       "<table border=\"1\" class=\"dataframe\">\n",
       "  <thead>\n",
       "    <tr style=\"text-align: right;\">\n",
       "      <th></th>\n",
       "      <th>Unnamed: 0</th>\n",
       "      <th>Title</th>\n",
       "      <th>Duration</th>\n",
       "      <th>Year</th>\n",
       "      <th>Disaster_Info</th>\n",
       "      <th>Date</th>\n",
       "    </tr>\n",
       "  </thead>\n",
       "  <tbody>\n",
       "    <tr>\n",
       "      <th>0</th>\n",
       "      <td>0</td>\n",
       "      <td>1990 Andhra Pradesh cyclone</td>\n",
       "      <td>4 May</td>\n",
       "      <td>1990</td>\n",
       "      <td>the  andhra pradesh cyclone or the  machilipat...</td>\n",
       "      <td>1990-05-04</td>\n",
       "    </tr>\n",
       "    <tr>\n",
       "      <th>1</th>\n",
       "      <td>1</td>\n",
       "      <td>Indian Airlines Flight 605</td>\n",
       "      <td>14 February</td>\n",
       "      <td>1990</td>\n",
       "      <td>indian airlines flight  was a scheduled domest...</td>\n",
       "      <td>1990-02-14</td>\n",
       "    </tr>\n",
       "    <tr>\n",
       "      <th>2</th>\n",
       "      <td>3</td>\n",
       "      <td>1991 Uttarkashi earthquake</td>\n",
       "      <td>20 October</td>\n",
       "      <td>1991</td>\n",
       "      <td>the  uttarkashi earthquake also known as the g...</td>\n",
       "      <td>1991-10-20</td>\n",
       "    </tr>\n",
       "    <tr>\n",
       "      <th>3</th>\n",
       "      <td>4</td>\n",
       "      <td>1992 India–Pakistan floods</td>\n",
       "      <td>7 September</td>\n",
       "      <td>1992</td>\n",
       "      <td>the  india–pakistan floods was a deadliest flo...</td>\n",
       "      <td>1992-09-07</td>\n",
       "    </tr>\n",
       "    <tr>\n",
       "      <th>4</th>\n",
       "      <td>5</td>\n",
       "      <td>Mahamaham stampede</td>\n",
       "      <td>18 February</td>\n",
       "      <td>1992</td>\n",
       "      <td>mahamaham stampede was a disaster that occurre...</td>\n",
       "      <td>1992-02-18</td>\n",
       "    </tr>\n",
       "  </tbody>\n",
       "</table>\n",
       "</div>"
      ],
      "text/plain": [
       "   Unnamed: 0                        Title     Duration  Year  \\\n",
       "0           0  1990 Andhra Pradesh cyclone        4 May  1990   \n",
       "1           1   Indian Airlines Flight 605  14 February  1990   \n",
       "2           3   1991 Uttarkashi earthquake   20 October  1991   \n",
       "3           4   1992 India–Pakistan floods  7 September  1992   \n",
       "4           5           Mahamaham stampede  18 February  1992   \n",
       "\n",
       "                                       Disaster_Info        Date  \n",
       "0  the  andhra pradesh cyclone or the  machilipat...  1990-05-04  \n",
       "1  indian airlines flight  was a scheduled domest...  1990-02-14  \n",
       "2  the  uttarkashi earthquake also known as the g...  1991-10-20  \n",
       "3  the  india–pakistan floods was a deadliest flo...  1992-09-07  \n",
       "4  mahamaham stampede was a disaster that occurre...  1992-02-18  "
      ]
     },
     "execution_count": 28,
     "metadata": {},
     "output_type": "execute_result"
    }
   ],
   "source": [
    "disaster_data = pd.read_csv(\"Natural_Disasters_in_India.csv\")\n",
    "disaster_data.head()\n"
   ]
  },
  {
   "cell_type": "code",
   "execution_count": 30,
   "id": "4db88149",
   "metadata": {},
   "outputs": [
    {
     "data": {
      "text/plain": [
       "(207, 6)"
      ]
     },
     "execution_count": 30,
     "metadata": {},
     "output_type": "execute_result"
    }
   ],
   "source": [
    "disaster_data.shape"
   ]
  },
  {
   "cell_type": "code",
   "execution_count": null,
   "id": "330b132d",
   "metadata": {},
   "outputs": [],
   "source": []
  },
  {
   "cell_type": "markdown",
   "id": "084bd3d5",
   "metadata": {},
   "source": [
    "## Write"
   ]
  },
  {
   "cell_type": "markdown",
   "id": "a2569c13",
   "metadata": {},
   "source": [
    "##### We use dataFremeName.to_csv(\"CSV_FileName.csv\") to write data to csv file. This creates new csv  file CSV_FileName"
   ]
  },
  {
   "cell_type": "code",
   "execution_count": 32,
   "id": "8251c527",
   "metadata": {},
   "outputs": [],
   "source": [
    "custom_dataFrame.to_csv(\"customDataFile.csv\")"
   ]
  },
  {
   "cell_type": "code",
   "execution_count": null,
   "id": "757cdf48",
   "metadata": {},
   "outputs": [],
   "source": []
  }
 ],
 "metadata": {
  "kernelspec": {
   "display_name": "Python 3 (ipykernel)",
   "language": "python",
   "name": "python3"
  },
  "language_info": {
   "codemirror_mode": {
    "name": "ipython",
    "version": 3
   },
   "file_extension": ".py",
   "mimetype": "text/x-python",
   "name": "python",
   "nbconvert_exporter": "python",
   "pygments_lexer": "ipython3",
   "version": "3.9.12"
  }
 },
 "nbformat": 4,
 "nbformat_minor": 5
}
